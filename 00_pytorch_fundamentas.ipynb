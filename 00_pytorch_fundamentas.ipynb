{
  "nbformat": 4,
  "nbformat_minor": 0,
  "metadata": {
    "colab": {
      "provenance": [],
      "gpuType": "T4",
      "authorship_tag": "ABX9TyMtYV/C4RnuLKNDh5rNaZtB",
      "include_colab_link": true
    },
    "kernelspec": {
      "name": "python3",
      "display_name": "Python 3"
    },
    "language_info": {
      "name": "python"
    },
    "accelerator": "GPU"
  },
  "cells": [
    {
      "cell_type": "markdown",
      "metadata": {
        "id": "view-in-github",
        "colab_type": "text"
      },
      "source": [
        "<a href=\"https://colab.research.google.com/github/Arham-Begani/Learning_Pytorch/blob/main/00_pytorch_fundamentas.ipynb\" target=\"_parent\"><img src=\"https://colab.research.google.com/assets/colab-badge.svg\" alt=\"Open In Colab\"/></a>"
      ]
    },
    {
      "cell_type": "markdown",
      "source": [
        "Pytorch Fundamentals\n"
      ],
      "metadata": {
        "id": "M2eES7kReYim"
      }
    },
    {
      "cell_type": "code",
      "source": [
        "import torch\n",
        "import pandas as pd\n",
        "import numpy as np\n",
        "import matplotlib.pyplot as plt\n",
        "print(torch.__version__)"
      ],
      "metadata": {
        "colab": {
          "base_uri": "https://localhost:8080/"
        },
        "id": "_K8_3RNJeq8D",
        "outputId": "2bdc3712-a18c-43d8-85ac-caa12765f408"
      },
      "execution_count": 1,
      "outputs": [
        {
          "output_type": "stream",
          "name": "stdout",
          "text": [
            "2.3.0+cu121\n"
          ]
        }
      ]
    },
    {
      "cell_type": "markdown",
      "source": [
        "##**Intro To Tensors**\n",
        "\n",
        "###          Creating tensors\n",
        "\n",
        "Pytorch tensors are created using \"torch.tensor()\""
      ],
      "metadata": {
        "id": "HqnzfLeNfLuZ"
      }
    },
    {
      "cell_type": "markdown",
      "source": [
        "Scalar"
      ],
      "metadata": {
        "id": "Dp-5r0SSVRzg"
      }
    },
    {
      "cell_type": "markdown",
      "source": [],
      "metadata": {
        "id": "JAlN9063VUSt"
      }
    },
    {
      "cell_type": "code",
      "source": [
        "# scalar\n",
        "scalar = torch.tensor(7)\n",
        "scalar"
      ],
      "metadata": {
        "colab": {
          "base_uri": "https://localhost:8080/"
        },
        "id": "sF9xoAaGfu2J",
        "outputId": "ee7640f3-0e10-4c07-c10e-4cf3be257686"
      },
      "execution_count": 19,
      "outputs": [
        {
          "output_type": "execute_result",
          "data": {
            "text/plain": [
              "tensor(7)"
            ]
          },
          "metadata": {},
          "execution_count": 19
        }
      ]
    },
    {
      "cell_type": "code",
      "source": [
        "scalar.ndim"
      ],
      "metadata": {
        "colab": {
          "base_uri": "https://localhost:8080/"
        },
        "id": "YPL-s-xrgY48",
        "outputId": "e5f78110-4bca-43ad-e798-0691ad4a2711"
      },
      "execution_count": 3,
      "outputs": [
        {
          "output_type": "execute_result",
          "data": {
            "text/plain": [
              "0"
            ]
          },
          "metadata": {},
          "execution_count": 3
        }
      ]
    },
    {
      "cell_type": "code",
      "source": [
        "scalar.item()"
      ],
      "metadata": {
        "colab": {
          "base_uri": "https://localhost:8080/"
        },
        "id": "iqp2SlZrg5DP",
        "outputId": "c0b906a0-597e-489b-8ddf-a05f22534ff0"
      },
      "execution_count": 4,
      "outputs": [
        {
          "output_type": "execute_result",
          "data": {
            "text/plain": [
              "7"
            ]
          },
          "metadata": {},
          "execution_count": 4
        }
      ]
    },
    {
      "cell_type": "markdown",
      "source": [
        "Vector"
      ],
      "metadata": {
        "id": "o8MKZG6pVWzS"
      }
    },
    {
      "cell_type": "code",
      "source": [
        "vector = torch.tensor([7,7])\n",
        "vector"
      ],
      "metadata": {
        "colab": {
          "base_uri": "https://localhost:8080/"
        },
        "id": "zakVWmWWhLpi",
        "outputId": "d55669f3-74d3-4047-c2b0-caa3d58c9ef6"
      },
      "execution_count": 5,
      "outputs": [
        {
          "output_type": "execute_result",
          "data": {
            "text/plain": [
              "tensor([7, 7])"
            ]
          },
          "metadata": {},
          "execution_count": 5
        }
      ]
    },
    {
      "cell_type": "code",
      "source": [
        "scalar.ndim"
      ],
      "metadata": {
        "colab": {
          "base_uri": "https://localhost:8080/"
        },
        "id": "m8L4uDIbhRvi",
        "outputId": "75570d01-984b-4aab-b8a1-54da95dd6b81"
      },
      "execution_count": 6,
      "outputs": [
        {
          "output_type": "execute_result",
          "data": {
            "text/plain": [
              "0"
            ]
          },
          "metadata": {},
          "execution_count": 6
        }
      ]
    },
    {
      "cell_type": "code",
      "source": [
        "vector.ndim"
      ],
      "metadata": {
        "colab": {
          "base_uri": "https://localhost:8080/"
        },
        "id": "p_PqFuRFiaRx",
        "outputId": "3be91aeb-9d62-4ed2-b8cd-420316719d9a"
      },
      "execution_count": 7,
      "outputs": [
        {
          "output_type": "execute_result",
          "data": {
            "text/plain": [
              "1"
            ]
          },
          "metadata": {},
          "execution_count": 7
        }
      ]
    },
    {
      "cell_type": "markdown",
      "source": [
        "# Random Tensors\n"
      ],
      "metadata": {
        "id": "gdt43Rn8ii2x"
      }
    },
    {
      "cell_type": "code",
      "source": [
        "random_tensor = torch.rand(3,6,5)\n",
        "random_tensor, random_tensor.ndim"
      ],
      "metadata": {
        "colab": {
          "base_uri": "https://localhost:8080/"
        },
        "id": "OaIENNENVMtK",
        "outputId": "f6651870-15b1-4fea-809e-2ce33dc68a16"
      },
      "execution_count": 20,
      "outputs": [
        {
          "output_type": "execute_result",
          "data": {
            "text/plain": [
              "(tensor([[[0.3118, 0.5881, 0.2195, 0.2206, 0.3269],\n",
              "          [0.0341, 0.0599, 0.7935, 0.3453, 0.5298],\n",
              "          [0.3737, 0.4422, 0.7323, 0.4750, 0.9546],\n",
              "          [0.0537, 0.3633, 0.2921, 0.9560, 0.2712],\n",
              "          [0.2367, 0.9964, 0.1144, 0.6222, 0.8929],\n",
              "          [0.2947, 0.7996, 0.3861, 0.8102, 0.3713]],\n",
              " \n",
              "         [[0.6573, 0.2343, 0.5828, 0.6970, 0.1197],\n",
              "          [0.5347, 0.7232, 0.8778, 0.5597, 0.0186],\n",
              "          [0.3494, 0.6234, 0.3233, 0.0311, 0.9349],\n",
              "          [0.5638, 0.1570, 0.9158, 0.2133, 0.8984],\n",
              "          [0.9570, 0.5314, 0.4788, 0.9363, 0.4386],\n",
              "          [0.1047, 0.2523, 0.6350, 0.8365, 0.6778]],\n",
              " \n",
              "         [[0.6746, 0.3759, 0.6549, 0.0490, 0.5801],\n",
              "          [0.4568, 0.4656, 0.4423, 0.4333, 0.6602],\n",
              "          [0.5197, 0.7194, 0.2245, 0.4736, 0.6456],\n",
              "          [0.2715, 0.6779, 0.1821, 0.5547, 0.6215],\n",
              "          [0.5523, 0.8455, 0.2076, 0.2271, 0.9585],\n",
              "          [0.5979, 0.4602, 0.8274, 0.5655, 0.1510]]]),\n",
              " 3)"
            ]
          },
          "metadata": {},
          "execution_count": 20
        }
      ]
    },
    {
      "cell_type": "code",
      "source": [
        "# Default datatype for tensors is float32\n",
        "float_32_tensor = torch.tensor([3.0, 6.0, 9.0],\n",
        "                               dtype=None, # defaults to None, which is torch.float32 or whatever datatype is passed\n",
        "                               device=None, # defaults to None, which uses the default tensor type\n",
        "                               requires_grad=False) # if True, operations performed on the tensor are recorded\n",
        "\n",
        "float_32_tensor.shape, float_32_tensor.dtype, float_32_tensor.device"
      ],
      "metadata": {
        "colab": {
          "base_uri": "https://localhost:8080/"
        },
        "id": "z9SMr03TSUKq",
        "outputId": "6ee9549f-1d6c-4111-ce7d-3188794f277e"
      },
      "execution_count": 16,
      "outputs": [
        {
          "output_type": "execute_result",
          "data": {
            "text/plain": [
              "(torch.Size([3]), torch.float32, device(type='cpu'))"
            ]
          },
          "metadata": {},
          "execution_count": 16
        }
      ]
    },
    {
      "cell_type": "code",
      "source": [
        "float_16_tensor = torch.tensor([3.0, 6.0, 9.0],\n",
        "                               dtype=torch.float16) # torch.half would also work\n",
        "\n",
        "float_16_tensor.dtype"
      ],
      "metadata": {
        "colab": {
          "base_uri": "https://localhost:8080/"
        },
        "id": "d6LWh25jT9wv",
        "outputId": "3d70dec7-5b8d-4c54-dda4-aa5ae6002d8d"
      },
      "execution_count": 17,
      "outputs": [
        {
          "output_type": "execute_result",
          "data": {
            "text/plain": [
              "torch.float16"
            ]
          },
          "metadata": {},
          "execution_count": 17
        }
      ]
    },
    {
      "cell_type": "markdown",
      "source": [
        "\n",
        "\n",
        "```\n",
        "# This is formatted as code\n",
        "```\n",
        "\n",
        "#Tensor Datatypes"
      ],
      "metadata": {
        "id": "52wMFsp6UGTv"
      }
    },
    {
      "cell_type": "markdown",
      "source": [
        "**Note**: Tensor datatypes is one of the big 3 errors with pytorch & deep learning:\n",
        "1. Tensors not right datatype\n",
        "2. Tensors not right shape\n",
        "3. Tensors not on right device"
      ],
      "metadata": {
        "id": "wyPysMxXYnJH"
      }
    },
    {
      "cell_type": "code",
      "source": [
        "float16_torch = torch.tensor([3.0, 6.0, 9.0],\n",
        "                               dtype=torch.float16,\n",
        "                               device=None,\n",
        "                           requires_grad=False) # torch.half would also work\n",
        "\n",
        "float16_torch.dtype"
      ],
      "metadata": {
        "colab": {
          "base_uri": "https://localhost:8080/"
        },
        "id": "NtQDHPmqWhVk",
        "outputId": "846f53d6-7f80-4442-e75f-0c80f552ad66"
      },
      "execution_count": 24,
      "outputs": [
        {
          "output_type": "execute_result",
          "data": {
            "text/plain": [
              "torch.float16"
            ]
          },
          "metadata": {},
          "execution_count": 24
        }
      ]
    },
    {
      "cell_type": "code",
      "source": [
        "float32_torch = torch.tensor([3.0, 6.0, 9.0],\n",
        "                               dtype=torch.float32,\n",
        "                               device=None,\n",
        "                           requires_grad=False) # torch.half would also work\n",
        "\n",
        "float32_torch.dtype"
      ],
      "metadata": {
        "colab": {
          "base_uri": "https://localhost:8080/"
        },
        "id": "hLPFPZyjW3UP",
        "outputId": "4846d186-a13b-4564-9c68-8c5c3cb56318"
      },
      "execution_count": 23,
      "outputs": [
        {
          "output_type": "execute_result",
          "data": {
            "text/plain": [
              "torch.float32"
            ]
          },
          "metadata": {},
          "execution_count": 23
        }
      ]
    },
    {
      "cell_type": "code",
      "source": [
        "float32_torch*float16_torch"
      ],
      "metadata": {
        "colab": {
          "base_uri": "https://localhost:8080/"
        },
        "id": "WLzkeUt1Xr4P",
        "outputId": "b98ad3dd-dbbb-4959-f7ad-9c7cd915f57a"
      },
      "execution_count": 25,
      "outputs": [
        {
          "output_type": "execute_result",
          "data": {
            "text/plain": [
              "tensor([ 9., 36., 81.])"
            ]
          },
          "metadata": {},
          "execution_count": 25
        }
      ]
    },
    {
      "cell_type": "markdown",
      "source": [
        "# Gettig info from Tensors"
      ],
      "metadata": {
        "id": "v5fMo3GlXyB_"
      }
    },
    {
      "cell_type": "markdown",
      "source": [
        "1. Tensors not right datatype - to get a datatype from a tensor we can use 'tensor.dtype'\n",
        "2. Tensors not right shape - to get the shape from tensor we can use 'tensor.shape'\n",
        "3. Tensors not on right device - to get device from a tensor we can use 'tensor.device'\n",
        "\n"
      ],
      "metadata": {
        "id": "eGDgym2oZQFh"
      }
    },
    {
      "cell_type": "code",
      "source": [],
      "metadata": {
        "id": "f24xB7vhaDRz"
      },
      "execution_count": null,
      "outputs": []
    }
  ]
}